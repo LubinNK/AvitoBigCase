{
 "cells": [
  {
   "cell_type": "code",
   "execution_count": 55,
   "id": "80513d61",
   "metadata": {},
   "outputs": [],
   "source": [
    "import pandas as pd\n",
    "import numpy as np\n",
    "%matplotlib inline\n",
    "import matplotlib.pyplot as plt\n",
    "from scipy.stats import norm, binom, sem\n",
    "from scipy.stats import binom_test, t, ttest_ind\n",
    "import warnings\n",
    "warnings.filterwarnings(\"ignore\")\n",
    "import seaborn as sns\n",
    "from tqdm import tqdm\n",
    "from statsmodels.stats.proportion import proportion_confint"
   ]
  },
  {
   "cell_type": "markdown",
   "id": "406ca087",
   "metadata": {},
   "source": [
    "## Первичный анализ групп"
   ]
  },
  {
   "cell_type": "code",
   "execution_count": 2,
   "id": "e3565c50",
   "metadata": {},
   "outputs": [],
   "source": [
    "users_verifications = pd.read_csv('data/users_and_verifications.csv')"
   ]
  },
  {
   "cell_type": "code",
   "execution_count": 3,
   "id": "52694aed",
   "metadata": {},
   "outputs": [
    {
     "data": {
      "text/html": [
       "<div>\n",
       "<style scoped>\n",
       "    .dataframe tbody tr th:only-of-type {\n",
       "        vertical-align: middle;\n",
       "    }\n",
       "\n",
       "    .dataframe tbody tr th {\n",
       "        vertical-align: top;\n",
       "    }\n",
       "\n",
       "    .dataframe thead th {\n",
       "        text-align: right;\n",
       "    }\n",
       "</style>\n",
       "<table border=\"1\" class=\"dataframe\">\n",
       "  <thead>\n",
       "    <tr style=\"text-align: right;\">\n",
       "      <th></th>\n",
       "      <th>user_id</th>\n",
       "      <th>experiment_group</th>\n",
       "      <th>UserType</th>\n",
       "      <th>RegistrationTime</th>\n",
       "      <th>item_id</th>\n",
       "      <th>discount_day</th>\n",
       "    </tr>\n",
       "  </thead>\n",
       "  <tbody>\n",
       "    <tr>\n",
       "      <th>0</th>\n",
       "      <td>273049750501</td>\n",
       "      <td>no_discount</td>\n",
       "      <td>Private</td>\n",
       "      <td>2016-12-07 17:20:07.382</td>\n",
       "      <td>4.133708e+11</td>\n",
       "      <td>2021-10-01</td>\n",
       "    </tr>\n",
       "    <tr>\n",
       "      <th>1</th>\n",
       "      <td>5131250049</td>\n",
       "      <td>30_discount</td>\n",
       "      <td>Private</td>\n",
       "      <td>2013-11-20 05:08:14.065</td>\n",
       "      <td>5.420683e+11</td>\n",
       "      <td>2021-10-01</td>\n",
       "    </tr>\n",
       "    <tr>\n",
       "      <th>2</th>\n",
       "      <td>374964778</td>\n",
       "      <td>30_discount</td>\n",
       "      <td>Private</td>\n",
       "      <td>2012-10-07 13:43:50.728</td>\n",
       "      <td>5.903628e+11</td>\n",
       "      <td>2021-10-11</td>\n",
       "    </tr>\n",
       "    <tr>\n",
       "      <th>3</th>\n",
       "      <td>464891750010</td>\n",
       "      <td>30_discount</td>\n",
       "      <td>Private</td>\n",
       "      <td>2019-03-31 11:28:13.981</td>\n",
       "      <td>6.926855e+11</td>\n",
       "      <td>2021-10-09</td>\n",
       "    </tr>\n",
       "    <tr>\n",
       "      <th>4</th>\n",
       "      <td>167540750020</td>\n",
       "      <td>no_discount</td>\n",
       "      <td>Private</td>\n",
       "      <td>2015-11-13 16:58:14.951</td>\n",
       "      <td>7.204115e+11</td>\n",
       "      <td>2021-10-12</td>\n",
       "    </tr>\n",
       "  </tbody>\n",
       "</table>\n",
       "</div>"
      ],
      "text/plain": [
       "        user_id experiment_group UserType         RegistrationTime   \n",
       "0  273049750501      no_discount  Private  2016-12-07 17:20:07.382  \\\n",
       "1    5131250049      30_discount  Private  2013-11-20 05:08:14.065   \n",
       "2     374964778      30_discount  Private  2012-10-07 13:43:50.728   \n",
       "3  464891750010      30_discount  Private  2019-03-31 11:28:13.981   \n",
       "4  167540750020      no_discount  Private  2015-11-13 16:58:14.951   \n",
       "\n",
       "        item_id discount_day  \n",
       "0  4.133708e+11   2021-10-01  \n",
       "1  5.420683e+11   2021-10-01  \n",
       "2  5.903628e+11   2021-10-11  \n",
       "3  6.926855e+11   2021-10-09  \n",
       "4  7.204115e+11   2021-10-12  "
      ]
     },
     "execution_count": 3,
     "metadata": {},
     "output_type": "execute_result"
    }
   ],
   "source": [
    "users_verifications.head()"
   ]
  },
  {
   "cell_type": "code",
   "execution_count": 4,
   "id": "74b9e4bc",
   "metadata": {},
   "outputs": [],
   "source": [
    "users_verifications['RegistrationTime'] = pd.to_datetime(users_verifications['RegistrationTime'])"
   ]
  },
  {
   "cell_type": "code",
   "execution_count": 5,
   "id": "c3133aa9",
   "metadata": {},
   "outputs": [
    {
     "name": "stdout",
     "output_type": "stream",
     "text": [
      "<class 'pandas.core.frame.DataFrame'>\n",
      "RangeIndex: 770035 entries, 0 to 770034\n",
      "Data columns (total 6 columns):\n",
      " #   Column            Non-Null Count   Dtype         \n",
      "---  ------            --------------   -----         \n",
      " 0   user_id           770035 non-null  int64         \n",
      " 1   experiment_group  770035 non-null  object        \n",
      " 2   UserType          770035 non-null  object        \n",
      " 3   RegistrationTime  770035 non-null  datetime64[ns]\n",
      " 4   item_id           29963 non-null   float64       \n",
      " 5   discount_day      29963 non-null   object        \n",
      "dtypes: datetime64[ns](1), float64(1), int64(1), object(3)\n",
      "memory usage: 35.2+ MB\n"
     ]
    }
   ],
   "source": [
    "users_verifications.info()"
   ]
  },
  {
   "cell_type": "code",
   "execution_count": 6,
   "id": "d5b1904e",
   "metadata": {},
   "outputs": [
    {
     "data": {
      "text/html": [
       "<div>\n",
       "<style scoped>\n",
       "    .dataframe tbody tr th:only-of-type {\n",
       "        vertical-align: middle;\n",
       "    }\n",
       "\n",
       "    .dataframe tbody tr th {\n",
       "        vertical-align: top;\n",
       "    }\n",
       "\n",
       "    .dataframe thead th {\n",
       "        text-align: right;\n",
       "    }\n",
       "</style>\n",
       "<table border=\"1\" class=\"dataframe\">\n",
       "  <thead>\n",
       "    <tr style=\"text-align: right;\">\n",
       "      <th></th>\n",
       "      <th>user_id</th>\n",
       "      <th>experiment_group</th>\n",
       "      <th>UserType</th>\n",
       "      <th>RegistrationTime</th>\n",
       "      <th>item_id</th>\n",
       "      <th>discount_day</th>\n",
       "    </tr>\n",
       "  </thead>\n",
       "  <tbody>\n",
       "  </tbody>\n",
       "</table>\n",
       "</div>"
      ],
      "text/plain": [
       "Empty DataFrame\n",
       "Columns: [user_id, experiment_group, UserType, RegistrationTime, item_id, discount_day]\n",
       "Index: []"
      ]
     },
     "execution_count": 6,
     "metadata": {},
     "output_type": "execute_result"
    }
   ],
   "source": [
    "#посмотрим есть ли зарегистрированные после начала эксперимента\n",
    "\n",
    "users_verifications[users_verifications['RegistrationTime'] >= '2021-09-15']"
   ]
  },
  {
   "cell_type": "code",
   "execution_count": 7,
   "id": "2855c193",
   "metadata": {},
   "outputs": [],
   "source": [
    "users_verifications_ndis = users_verifications[users_verifications['experiment_group'] == 'no_discount']\n",
    "users_verifications_30dis = users_verifications[users_verifications['experiment_group'] == '30_discount']\n",
    "users_verifications_60dis = users_verifications[users_verifications['experiment_group'] == '60_discount']"
   ]
  },
  {
   "cell_type": "code",
   "execution_count": 8,
   "id": "b195594c",
   "metadata": {},
   "outputs": [],
   "source": [
    "# В переменных ниже будем хранить пользователей по группам\n",
    "users_ndis = users_verifications_ndis['user_id'].unique()\n",
    "users_30dis = users_verifications_30dis['user_id'].unique()\n",
    "users_60dis = users_verifications_60dis['user_id'].unique()"
   ]
  },
  {
   "cell_type": "code",
   "execution_count": 9,
   "id": "50f02e77",
   "metadata": {},
   "outputs": [
    {
     "name": "stdout",
     "output_type": "stream",
     "text": [
      "Количество пользователей в группе no_discounts: 255626 пользователей\n",
      "Количество пользователей в группе 30_discounts: 253663 пользователей\n",
      "Количество пользователей в группе 60_discounts: 253441 пользователей\n"
     ]
    }
   ],
   "source": [
    "print(f\"Количество пользователей в группе no_discounts: {len(users_ndis)} пользователей\")\n",
    "print(f\"Количество пользователей в группе 30_discounts: {len(users_30dis)} пользователей\")\n",
    "print(f\"Количество пользователей в группе 60_discounts: {len(users_60dis)} пользователей\")"
   ]
  },
  {
   "cell_type": "markdown",
   "id": "cd3f2e60",
   "metadata": {},
   "source": [
    "Посмотрим на доли типов пользователей в группах"
   ]
  },
  {
   "cell_type": "code",
   "execution_count": 10,
   "id": "1c6a9550",
   "metadata": {},
   "outputs": [],
   "source": [
    "users_type_ndis = users_verifications_ndis[['user_id', 'UserType']].drop_duplicates()['UserType'].value_counts()\n",
    "users_type_30dis = users_verifications_30dis[['user_id', 'UserType']].drop_duplicates()['UserType'].value_counts()\n",
    "users_type_60dis = users_verifications_60dis[['user_id', 'UserType']].drop_duplicates()['UserType'].value_counts()"
   ]
  },
  {
   "cell_type": "code",
   "execution_count": 11,
   "id": "5c5033e4",
   "metadata": {},
   "outputs": [],
   "source": [
    "users_type_ndis /= len(users_verifications_ndis['user_id'])\n",
    "users_type_30dis /= len(users_verifications_30dis['user_id'])\n",
    "users_type_60dis /= len(users_verifications_60dis['user_id'])"
   ]
  },
  {
   "cell_type": "code",
   "execution_count": 12,
   "id": "ffe5b6b3",
   "metadata": {},
   "outputs": [
    {
     "data": {
      "image/png": "[encoded data removed]",
      "text/plain": [
       "<Figure size 640x480 with 1 Axes>"
      ]
     },
     "metadata": {},
     "output_type": "display_data"
    }
   ],
   "source": [
    "labels = ['Private', 'Company', 'Shop']\n",
    "colors = sns.color_palette('pastel')[ 0:3 ]\n",
    "plt.title('Group no_discount')\n",
    "plt.pie(users_type_ndis, labels = labels, colors = colors, autopct='%.3f%%')\n",
    "plt.show()"
   ]
  },
  {
   "cell_type": "code",
   "execution_count": 13,
   "id": "d0689d02",
   "metadata": {},
   "outputs": [
    {
     "data": {
      "image/png": "[encoded data removed]",
      "text/plain": [
       "<Figure size 640x480 with 1 Axes>"
      ]
     },
     "metadata": {},
     "output_type": "display_data"
    }
   ],
   "source": [
    "plt.title('Group 30_discount')\n",
    "plt.pie(users_type_30dis, labels = labels, colors = colors, autopct='%.3f%%')\n",
    "plt.show()"
   ]
  },
  {
   "cell_type": "code",
   "execution_count": 14,
   "id": "e1d6f6c7",
   "metadata": {},
   "outputs": [
    {
     "data": {
      "image/png": "[encoded data removed]",
      "text/plain": [
       "<Figure size 640x480 with 1 Axes>"
      ]
     },
     "metadata": {},
     "output_type": "display_data"
    }
   ],
   "source": [
    "plt.title('Group 60_discount')\n",
    "plt.pie(users_type_60dis, labels = labels, colors = colors, autopct='%.3f%%')\n",
    "plt.show()"
   ]
  },
  {
   "cell_type": "markdown",
   "id": "b1ed0dea",
   "metadata": {},
   "source": [
    "#### Сравним ARPU по группам"
   ]
  },
  {
   "cell_type": "markdown",
   "id": "e80a83d8",
   "metadata": {},
   "source": [
    "`users_and_pays_perday.csv` - датасет с данными о суммарной оплате каждого пользователя за определенный день"
   ]
  },
  {
   "cell_type": "code",
   "execution_count": 15,
   "id": "8d098625",
   "metadata": {},
   "outputs": [
    {
     "data": {
      "text/html": [
       "<div>\n",
       "<style scoped>\n",
       "    .dataframe tbody tr th:only-of-type {\n",
       "        vertical-align: middle;\n",
       "    }\n",
       "\n",
       "    .dataframe tbody tr th {\n",
       "        vertical-align: top;\n",
       "    }\n",
       "\n",
       "    .dataframe thead th {\n",
       "        text-align: right;\n",
       "    }\n",
       "</style>\n",
       "<table border=\"1\" class=\"dataframe\">\n",
       "  <thead>\n",
       "    <tr style=\"text-align: right;\">\n",
       "      <th></th>\n",
       "      <th>user_id</th>\n",
       "      <th>event_date</th>\n",
       "      <th>net_pday</th>\n",
       "    </tr>\n",
       "  </thead>\n",
       "  <tbody>\n",
       "    <tr>\n",
       "      <th>0</th>\n",
       "      <td>101</td>\n",
       "      <td>2021-06-02</td>\n",
       "      <td>69.230769</td>\n",
       "    </tr>\n",
       "    <tr>\n",
       "      <th>1</th>\n",
       "      <td>101</td>\n",
       "      <td>2021-06-19</td>\n",
       "      <td>32.384615</td>\n",
       "    </tr>\n",
       "    <tr>\n",
       "      <th>2</th>\n",
       "      <td>101</td>\n",
       "      <td>2021-07-02</td>\n",
       "      <td>69.230769</td>\n",
       "    </tr>\n",
       "    <tr>\n",
       "      <th>3</th>\n",
       "      <td>101</td>\n",
       "      <td>2021-07-03</td>\n",
       "      <td>46.692308</td>\n",
       "    </tr>\n",
       "    <tr>\n",
       "      <th>4</th>\n",
       "      <td>101</td>\n",
       "      <td>2021-07-21</td>\n",
       "      <td>32.384615</td>\n",
       "    </tr>\n",
       "  </tbody>\n",
       "</table>\n",
       "</div>"
      ],
      "text/plain": [
       "   user_id  event_date   net_pday\n",
       "0      101  2021-06-02  69.230769\n",
       "1      101  2021-06-19  32.384615\n",
       "2      101  2021-07-02  69.230769\n",
       "3      101  2021-07-03  46.692308\n",
       "4      101  2021-07-21  32.384615"
      ]
     },
     "execution_count": 15,
     "metadata": {},
     "output_type": "execute_result"
    }
   ],
   "source": [
    "users_pays_pday = pd.read_csv('data/users_and_pays_perday.csv')\n",
    "users_pays_pday.head()"
   ]
  },
  {
   "cell_type": "code",
   "execution_count": 16,
   "id": "395f83b3",
   "metadata": {},
   "outputs": [],
   "source": [
    "users_pays_pday['event_date'] = pd.to_datetime(users_pays_pday['event_date'])"
   ]
  },
  {
   "cell_type": "code",
   "execution_count": 17,
   "id": "3392abb1",
   "metadata": {},
   "outputs": [
    {
     "name": "stdout",
     "output_type": "stream",
     "text": [
      "<class 'pandas.core.frame.DataFrame'>\n",
      "RangeIndex: 2395069 entries, 0 to 2395068\n",
      "Data columns (total 3 columns):\n",
      " #   Column      Dtype         \n",
      "---  ------      -----         \n",
      " 0   user_id     int64         \n",
      " 1   event_date  datetime64[ns]\n",
      " 2   net_pday    float64       \n",
      "dtypes: datetime64[ns](1), float64(1), int64(1)\n",
      "memory usage: 54.8 MB\n"
     ]
    }
   ],
   "source": [
    "users_pays_pday.info()"
   ]
  },
  {
   "cell_type": "markdown",
   "id": "60c8578f",
   "metadata": {},
   "source": [
    "Посмотрим, как тратили пользователи до начала эксперимента"
   ]
  },
  {
   "cell_type": "code",
   "execution_count": 18,
   "id": "1abfa2c4",
   "metadata": {},
   "outputs": [],
   "source": [
    "users_pays_pday_before = users_pays_pday[users_pays_pday['event_date'] < '2021-09-15']"
   ]
  },
  {
   "cell_type": "code",
   "execution_count": 19,
   "id": "42c2d205",
   "metadata": {},
   "outputs": [
    {
     "name": "stdout",
     "output_type": "stream",
     "text": [
      "106.0 дней наблюдений до эксперимента\n"
     ]
    }
   ],
   "source": [
    "DAYS_BEFORE = (users_pays_pday_before['event_date'].max() - users_pays_pday_before['event_date'].min()) / np.timedelta64 ( 1 , 'D') + 1\n",
    "print(f\"{DAYS_BEFORE} дней наблюдений до эксперимента\")"
   ]
  },
  {
   "cell_type": "markdown",
   "id": "07b48582",
   "metadata": {},
   "source": [
    "Поделим платежи по группам"
   ]
  },
  {
   "cell_type": "code",
   "execution_count": 20,
   "id": "e2229031",
   "metadata": {},
   "outputs": [],
   "source": [
    "users_pays_pday_before_ndis = users_pays_pday_before[users_pays_pday_before['user_id'].isin(users_ndis)]\n",
    "users_pays_pday_before_30dis = users_pays_pday_before[users_pays_pday_before['user_id'].isin(users_30dis)]\n",
    "users_pays_pday_before_60dis = users_pays_pday_before[users_pays_pday_before['user_id'].isin(users_60dis)]"
   ]
  },
  {
   "cell_type": "markdown",
   "id": "5284ed6e",
   "metadata": {},
   "source": [
    "Посмотрим на количество платящих пользователей внутри групп"
   ]
  },
  {
   "cell_type": "code",
   "execution_count": 21,
   "id": "accef8ff",
   "metadata": {},
   "outputs": [
    {
     "name": "stdout",
     "output_type": "stream",
     "text": [
      "Количество платящих в группе no_discount: 86049 (33.66%)\n",
      "Количество платящих в группе 30_discount: 85205 (33.59%)\n",
      "Количество платящих в группе 60_discount: 85353 (33.68%)\n"
     ]
    }
   ],
   "source": [
    "print(f\"Количество платящих в группе no_discount: {len(users_pays_pday_before_ndis['user_id'].unique())} ({round(len(users_pays_pday_before_ndis['user_id'].unique())*100/len(users_ndis), 2)}%)\")\n",
    "print(f\"Количество платящих в группе 30_discount: {len(users_pays_pday_before_30dis['user_id'].unique())} ({round(len(users_pays_pday_before_30dis['user_id'].unique())*100/len(users_30dis), 2)}%)\")\n",
    "print(f\"Количество платящих в группе 60_discount: {len(users_pays_pday_before_60dis['user_id'].unique())} ({round(len(users_pays_pday_before_60dis['user_id'].unique())*100/len(users_60dis), 2)}%)\")"
   ]
  },
  {
   "cell_type": "markdown",
   "id": "9569798a",
   "metadata": {},
   "source": [
    "Видим, что по группам количество плтаящих пользователей примерно равное количество - треть от группы"
   ]
  },
  {
   "cell_type": "markdown",
   "id": "494aa4bc",
   "metadata": {},
   "source": [
    "Посчитаем среднюю выручку на пользователя, нормированнуюю на количество дней наблюдений (ARPU нормированная на период)"
   ]
  },
  {
   "cell_type": "code",
   "execution_count": 22,
   "id": "e61e9757",
   "metadata": {},
   "outputs": [
    {
     "name": "stdout",
     "output_type": "stream",
     "text": [
      "Для группы no_discount ARPU, нормированная на период : 1.6573, [1.1857892473197382, 2.128735827962313]\n",
      "Для группы 30_discount ARPU, нормированная на период : 1.5282, [1.3064116859299475, 1.7500046866904653]\n",
      "Для группы 60_discount ARPU, нормированная на период : 1.5976, [1.3305429736340386, 1.864623867239585]\n"
     ]
    }
   ],
   "source": [
    "# Делим на группы\n",
    "users_pays_before_ndis = users_pays_pday_before_ndis.groupby('user_id')['net_pday'].sum() / DAYS_BEFORE\n",
    "users_pays_before_30dis = users_pays_pday_before_30dis.groupby('user_id')['net_pday'].sum() / DAYS_BEFORE\n",
    "users_pays_before_60dis = users_pays_pday_before_60dis.groupby('user_id')['net_pday'].sum() / DAYS_BEFORE\n",
    "\n",
    "# Фиксируем среднее\n",
    "mean_rev_before_ndis = users_pays_before_ndis.sum() / len(users_ndis)\n",
    "mean_rev_before_30dis = users_pays_before_30dis.sum() / len(users_30dis)\n",
    "mean_rev_before_60dis = users_pays_before_60dis.sum() / len(users_60dis)\n",
    "\n",
    "# Считаем ДИ для средних\n",
    "l_ndis, r_ndis = t.interval(alpha=0.95, df=len(users_ndis)-1, loc=mean_rev_before_ndis, scale=sem(users_pays_before_ndis)) \n",
    "l_30dis, r_30dis = t.interval(alpha=0.95, df=len(users_30dis)-1, loc=mean_rev_before_30dis, scale=sem(users_pays_before_30dis)) \n",
    "l_60dis, r_60dis = t.interval(alpha=0.95, df=len(users_60dis)-1, loc=mean_rev_before_60dis, scale=sem(users_pays_before_60dis)) \n",
    "\n",
    "print(f\"Для группы no_discount ARPU, нормированная на период : {round(mean_rev_before_ndis, 4)}, [{l_ndis}, {r_ndis}]\")\n",
    "print(f\"Для группы 30_discount ARPU, нормированная на период : {round(mean_rev_before_30dis, 4)}, [{l_30dis}, {r_30dis}]\")\n",
    "print(f\"Для группы 60_discount ARPU, нормированная на период : {round(mean_rev_before_60dis, 4)}, [{l_60dis}, {r_60dis}]\")"
   ]
  },
  {
   "cell_type": "markdown",
   "id": "81dd077d",
   "metadata": {},
   "source": [
    "Посчитаем среднюю выручку на платящего пользователя, нормированнуюю на количество дней наблюдений (ARPPU нормированная на период)"
   ]
  },
  {
   "cell_type": "code",
   "execution_count": 24,
   "id": "1205a783",
   "metadata": {},
   "outputs": [
    {
     "name": "stdout",
     "output_type": "stream",
     "text": [
      "Для группы no_discount ARPPU, нормированная на период : 4.9232, [4.451756670229848, 5.394712049848826]\n",
      "Для группы 30_discount ARPPU, нормированная на период : 4.5496, [4.327815551466152, 4.7714127371086]\n",
      "Для группы 60_discount ARPPU, нормированная на период : 4.7437, [4.476705236277676, 5.010791153044925]\n"
     ]
    }
   ],
   "source": [
    "# Делим на группы\n",
    "users_pays_before_ndis = users_pays_pday_before_ndis.groupby('user_id')['net_pday'].sum() / DAYS_BEFORE\n",
    "users_pays_before_30dis = users_pays_pday_before_30dis.groupby('user_id')['net_pday'].sum() / DAYS_BEFORE\n",
    "users_pays_before_60dis = users_pays_pday_before_60dis.groupby('user_id')['net_pday'].sum() / DAYS_BEFORE\n",
    "\n",
    "# Фиксируем среднее\n",
    "mean_rev_before_ndis = users_pays_before_ndis.mean()\n",
    "mean_rev_before_30dis = users_pays_before_30dis.mean()\n",
    "mean_rev_before_60dis = users_pays_before_60dis.mean()\n",
    "\n",
    "# Считаем ДИ для средних\n",
    "l_ndis, r_ndis = t.interval(alpha=0.95, df=len(users_pays_before_ndis)-1, loc=mean_rev_before_ndis, scale=sem(users_pays_before_ndis)) \n",
    "l_30dis, r_30dis = t.interval(alpha=0.95, df=len(users_pays_before_30dis)-1, loc=mean_rev_before_30dis, scale=sem(users_pays_before_30dis)) \n",
    "l_60dis, r_60dis = t.interval(alpha=0.95, df=len(users_pays_before_60dis)-1, loc=mean_rev_before_60dis, scale=sem(users_pays_before_60dis)) \n",
    "\n",
    "print(f\"Для группы no_discount ARPPU, нормированная на период : {round(mean_rev_before_ndis, 4)}, [{l_ndis}, {r_ndis}]\")\n",
    "print(f\"Для группы 30_discount ARPPU, нормированная на период : {round(mean_rev_before_30dis, 4)}, [{l_30dis}, {r_30dis}]\")\n",
    "print(f\"Для группы 60_discount ARPPU, нормированная на период : {round(mean_rev_before_60dis, 4)}, [{l_60dis}, {r_60dis}]\")"
   ]
  },
  {
   "cell_type": "markdown",
   "id": "490c7b46",
   "metadata": {},
   "source": [
    "Исходя из доверительных интервалов, можно сделать вывод, что по показателям ARPU и ARPPU, нормированных на период, группы идентичны "
   ]
  },
  {
   "cell_type": "code",
   "execution_count": null,
   "id": "a6547470",
   "metadata": {},
   "outputs": [],
   "source": []
  },
  {
   "cell_type": "code",
   "execution_count": null,
   "id": "f4d66d9b",
   "metadata": {},
   "outputs": [],
   "source": []
  },
  {
   "cell_type": "code",
   "execution_count": null,
   "id": "108ec3fe",
   "metadata": {},
   "outputs": [],
   "source": []
  },
  {
   "cell_type": "code",
   "execution_count": null,
   "id": "38f10755",
   "metadata": {},
   "outputs": [],
   "source": []
  },
  {
   "cell_type": "code",
   "execution_count": null,
   "id": "40c67930",
   "metadata": {},
   "outputs": [],
   "source": []
  },
  {
   "cell_type": "code",
   "execution_count": null,
   "id": "c69399ff",
   "metadata": {},
   "outputs": [],
   "source": []
  },
  {
   "cell_type": "markdown",
   "id": "f5a84ac9",
   "metadata": {},
   "source": [
    "### Про верификации"
   ]
  },
  {
   "cell_type": "code",
   "execution_count": 191,
   "id": "839c761c",
   "metadata": {},
   "outputs": [],
   "source": [
    "# Удалив нули мы получаем юзеров, которые верифицировались, то есть у кого имеются данные по дате выдачи скидки и items на скидку\n",
    "ver_users_ndis = users_verifications_ndis.dropna(subset=['item_id', 'discount_day'])[['user_id', 'discount_day']].drop_duplicates()\n",
    "ver_users_30dis = users_verifications_30dis.dropna(subset=['item_id', 'discount_day'])[['user_id', 'discount_day']].drop_duplicates()\n",
    "ver_users_60dis = users_verifications_60dis.dropna(subset=['item_id', 'discount_day'])[['user_id', 'discount_day']].drop_duplicates()"
   ]
  },
  {
   "cell_type": "code",
   "execution_count": 192,
   "id": "5ff42cae",
   "metadata": {},
   "outputs": [
    {
     "data": {
      "text/plain": [
       "('2021-09-16', '2021-09-16', '2021-09-16')"
      ]
     },
     "execution_count": 192,
     "metadata": {},
     "output_type": "execute_result"
    }
   ],
   "source": [
    "ver_users_ndis['discount_day'].min(), ver_users_30dis['discount_day'].min(), ver_users_60dis['discount_day'].min()"
   ]
  },
  {
   "cell_type": "markdown",
   "id": "b7e4e329",
   "metadata": {},
   "source": [
    "Пользователей, верифицировавшихся до начала эксперимента нет"
   ]
  },
  {
   "cell_type": "code",
   "execution_count": 193,
   "id": "96b6ebf0",
   "metadata": {},
   "outputs": [],
   "source": [
    "ver_users_ndis = ver_users_ndis['user_id']\n",
    "ver_users_30dis = ver_users_30dis['user_id']\n",
    "ver_users_60dis = ver_users_60dis['user_id']"
   ]
  },
  {
   "cell_type": "code",
   "execution_count": 194,
   "id": "677aa61a",
   "metadata": {},
   "outputs": [
    {
     "name": "stdout",
     "output_type": "stream",
     "text": [
      "Количество сверифицированных пользователей в группе no_discounts: 6863 пользователей (2.68%)\n",
      "Количество сверифицированных пользователей в группе 30_discounts: 7486 пользователей (2.95%)\n",
      "Количество сверифицированных пользователей в группе 60_discounts: 8310 пользователей (3.28%)\n"
     ]
    }
   ],
   "source": [
    "print(f\"Количество сверифицированных пользователей в группе no_discounts: {len(ver_users_ndis)} пользователей ({round(len(ver_users_ndis)*100/len(users_ndis), 2)}%)\")\n",
    "print(f\"Количество сверифицированных пользователей в группе 30_discounts: {len(ver_users_30dis)} пользователей ({round(len(ver_users_30dis)*100/len(users_30dis), 2)}%)\")\n",
    "print(f\"Количество сверифицированных пользователей в группе 60_discounts: {len(ver_users_60dis)} пользователей ({round(len(ver_users_60dis)*100/len(users_60dis), 2)}%)\")"
   ]
  },
  {
   "cell_type": "markdown",
   "id": "1dce0865",
   "metadata": {},
   "source": [
    "Реализуем критерий для сравнения вероятностей двух биномиально распределенных величин и проверим его методом Монте-Карло"
   ]
  },
  {
   "cell_type": "code",
   "execution_count": 50,
   "id": "35d48826",
   "metadata": {},
   "outputs": [],
   "source": [
    "def my_binom_test(a: tuple, b: tuple):\n",
    "    m1, n1 = a\n",
    "    m2, n2 = b\n",
    "    u_stat = ((m1/n1 - 1/(2*n1)) - (m2/n2 + 1/(2*n2)))/((((m1+m2)/(n1+n2))*(1 - (m1+m2)/(n1+n2))*(1/n1 + 1/n2))**0.5)\n",
    "    pvalue = norm(0, 1).cdf(u_stat)\n",
    "    if pvalue > 0.5:\n",
    "        pvalue = (1 - pvalue) * 2\n",
    "    else:\n",
    "        pvalue *= 2\n",
    "        \n",
    "    return pvalue, u_stat"
   ]
  },
  {
   "cell_type": "code",
   "execution_count": 51,
   "id": "94579939",
   "metadata": {},
   "outputs": [
    {
     "name": "stderr",
     "output_type": "stream",
     "text": [
      "100%|██████████████████████████████████████████████████████████████████████████| 10000/10000 [00:05<00:00, 1801.95it/s]"
     ]
    },
    {
     "name": "stdout",
     "output_type": "stream",
     "text": [
      "My Binom Test Significance Level: 0.051, [0.046, 0.055]\n"
     ]
    },
    {
     "name": "stderr",
     "output_type": "stream",
     "text": [
      "\n"
     ]
    }
   ],
   "source": [
    "# Проверил методом Монте-Карло\n",
    "bad_count = 0\n",
    "for _ in tqdm(range(10000)):\n",
    "    a = binom.rvs(n=250000, p=0.025, size=1)\n",
    "    b = binom.rvs(n=250000, p=0.025, size=1)\n",
    "    pvalue, _ = my_binom_test((a, 250000), (b, 250000))\n",
    "    if pvalue < 0.05:\n",
    "        bad_count += 1\n",
    "\n",
    "left_level, right_level = proportion_confint(count = bad_count, nobs = 10000, alpha=0.05, method='wilson')\n",
    "print(f\"My Binom Test Significance Level: {round(bad_count/10000, 3)}, [{round(left_level, 3)}, {round(right_level, 3)}]\")"
   ]
  },
  {
   "cell_type": "markdown",
   "id": "dbdd87d5",
   "metadata": {},
   "source": [
    "Получим pvalue для биномиального теста"
   ]
  },
  {
   "cell_type": "code",
   "execution_count": 53,
   "id": "622827bf",
   "metadata": {},
   "outputs": [
    {
     "name": "stdout",
     "output_type": "stream",
     "text": [
      "pvalue: 8.788130918091495e-09, U statistic: -5.7526\n"
     ]
    }
   ],
   "source": [
    "pvalue, u_stat = my_binom_test((len(ver_users_ndis), len(users_ndis)), (len(ver_users_30dis), len(users_30dis)))\n",
    "print(f\"pvalue: {pvalue}, U statistic: {round(u_stat, 4)}\")"
   ]
  },
  {
   "cell_type": "markdown",
   "id": "0e83c00b",
   "metadata": {},
   "source": [
    "Видим, что количество конверсий в верификацию статзначимо больше в группе 30_discounts по сравнению с no_discounts"
   ]
  },
  {
   "cell_type": "code",
   "execution_count": 54,
   "id": "24e87dd4",
   "metadata": {},
   "outputs": [
    {
     "name": "stdout",
     "output_type": "stream",
     "text": [
      "pvalue: 1.0698942821496348e-35, U statistic: -12.4714\n"
     ]
    }
   ],
   "source": [
    "pvalue, u_stat = my_binom_test((len(ver_users_ndis), len(users_ndis)), (len(ver_users_60dis), len(users_60dis)))\n",
    "print(f\"pvalue: {pvalue}, U statistic: {round(u_stat, 4)}\")"
   ]
  },
  {
   "cell_type": "markdown",
   "id": "4dbaeaa3",
   "metadata": {},
   "source": [
    "Видим, что количество конверсий в верификацию статзначимо больше в группе 60_discounts по сравнению с no_discounts"
   ]
  },
  {
   "cell_type": "markdown",
   "id": "a7a0ba98",
   "metadata": {},
   "source": [
    "Сравним группы 30_discounts и 60_discounts"
   ]
  },
  {
   "cell_type": "code",
   "execution_count": 55,
   "id": "d5d39d7c",
   "metadata": {},
   "outputs": [
    {
     "name": "stdout",
     "output_type": "stream",
     "text": [
      "pvalue: 1.9650281402050496e-11, U statistic: 6.7086\n"
     ]
    }
   ],
   "source": [
    "pvalue, u_stat = my_binom_test((len(ver_users_60dis), len(users_60dis)), (len(ver_users_30dis), len(users_30dis)))\n",
    "print(f\"pvalue: {pvalue}, U statistic: {round(u_stat, 4)}\")"
   ]
  },
  {
   "cell_type": "markdown",
   "id": "72760b92",
   "metadata": {},
   "source": [
    "Видим, что в группе 60_discounts конверсий статзначимо больше, чем в группе 30_discounts"
   ]
  },
  {
   "cell_type": "markdown",
   "id": "945e3772",
   "metadata": {},
   "source": [
    "Выведем сравнительную характеристику\n",
    "\n",
    "|  | no_discounts | 30_discounts | 60_discounts |\n",
    "| --- | --- | --- | --- |\n",
    "| __Users__ | 255626 | 253663  | 253441 |\n",
    "| __Verified Users__ | 6863  | 7485  | 8310 |\n",
    "| __% Verified Users__ | 2.68% | 2.95% | 3.28% |"
   ]
  },
  {
   "cell_type": "code",
   "execution_count": null,
   "id": "b24b6b15",
   "metadata": {},
   "outputs": [],
   "source": []
  },
  {
   "cell_type": "code",
   "execution_count": null,
   "id": "38389ee6",
   "metadata": {},
   "outputs": [],
   "source": []
  },
  {
   "cell_type": "markdown",
   "id": "23753ab4",
   "metadata": {},
   "source": [
    "Сравним бутсрапом дополнительно"
   ]
  },
  {
   "cell_type": "code",
   "execution_count": 195,
   "id": "f388a64a",
   "metadata": {},
   "outputs": [
    {
     "name": "stderr",
     "output_type": "stream",
     "text": [
      "100%|██████████████████████████████████████████████████████████████████████████████| 3000/3000 [02:47<00:00, 17.86it/s]"
     ]
    },
    {
     "name": "stdout",
     "output_type": "stream",
     "text": [
      "CI verification in no_discount: [1.67%, 1.73%]\n",
      "CI verification in 30_discount: [1.83%, 1.9%]\n",
      "CI verification in 60_discount: [2.04%, 2.11%]\n"
     ]
    },
    {
     "name": "stderr",
     "output_type": "stream",
     "text": [
      "\n"
     ]
    }
   ],
   "source": [
    "boot_conversion_ndis = []\n",
    "boot_conversion_30dis = []\n",
    "boot_conversion_60dis = []\n",
    "ver_users_ndis = users_verifications_ndis[['user_id', 'discount_day']].drop_duplicates().reset_index()[['user_id', 'discount_day']]\n",
    "ver_users_30dis = users_verifications_30dis[['user_id', 'discount_day']].drop_duplicates().reset_index()[['user_id', 'discount_day']]\n",
    "ver_users_60dis = users_verifications_60dis[['user_id', 'discount_day']].drop_duplicates().reset_index()[['user_id', 'discount_day']]\n",
    "\n",
    "for _ in tqdm(range(3000)):\n",
    "    # Выбираем случайных пользователей с возвращением и фильтруем тех кто верифицировался\n",
    "    boot_ver_users_ndis = ver_users_ndis.iloc[np.random.randint(0, len(ver_users_ndis), len(ver_users_ndis))].dropna(subset=['discount_day'])['user_id'].unique()\n",
    "    boot_ver_users_30dis = ver_users_30dis.iloc[np.random.randint(0, len(ver_users_30dis), len(ver_users_30dis))].dropna(subset=['discount_day'])['user_id'].unique()\n",
    "    boot_ver_users_60dis = ver_users_60dis.iloc[np.random.randint(0, len(ver_users_60dis), len(ver_users_60dis))].dropna(subset=['discount_day'])['user_id'].unique()\n",
    "        \n",
    "    # Считаем конверсию\n",
    "    boot_conversion_ndis.append(len(boot_ver_users_ndis)/len(users_ndis))\n",
    "    boot_conversion_30dis.append(len(boot_ver_users_30dis)/len(users_30dis))\n",
    "    boot_conversion_60dis.append(len(boot_ver_users_60dis)/len(users_60dis))\n",
    "\n",
    "l_ndis, r_ndis = np.percentile(boot_conversion_ndis, [100 * 0.05 / 2., 100 * (1 - 0.05 / 2.)])\n",
    "l_30dis, r_30dis = np.percentile(boot_conversion_30dis, [100 * 0.05 / 2., 100 * (1 - 0.05 / 2.)])\n",
    "l_60dis, r_60dis = np.percentile(boot_conversion_60dis, [100 * 0.05 / 2., 100 * (1 - 0.05 / 2.)])\n",
    "\n",
    "print(f\"CI verification in no_discount: [{round(l_ndis*100, 2)}%, {round(r_ndis*100, 2)}%]\")\n",
    "print(f\"CI verification in 30_discount: [{round(l_30dis*100, 2)}%, {round(r_30dis*100, 2)}%]\")\n",
    "print(f\"CI verification in 60_discount: [{round(l_60dis*100, 2)}%, {round(r_60dis*100, 2)}%]\")\n",
    "\n",
    "    "
   ]
  },
  {
   "cell_type": "code",
   "execution_count": null,
   "id": "534a29bf",
   "metadata": {},
   "outputs": [],
   "source": []
  },
  {
   "cell_type": "code",
   "execution_count": null,
   "id": "f359f1be",
   "metadata": {},
   "outputs": [],
   "source": []
  },
  {
   "cell_type": "code",
   "execution_count": null,
   "id": "fa9ffe5f",
   "metadata": {},
   "outputs": [],
   "source": []
  },
  {
   "cell_type": "code",
   "execution_count": null,
   "id": "7ae5d3a9",
   "metadata": {},
   "outputs": [],
   "source": []
  },
  {
   "cell_type": "markdown",
   "id": "81974aaa",
   "metadata": {},
   "source": [
    "## ARPU после начала эксперимента"
   ]
  },
  {
   "cell_type": "markdown",
   "id": "60e76268",
   "metadata": {},
   "source": [
    "`users_and_pays_perday.csv` - датасет с данными о суммарной оплате каждого пользователя за определенный день"
   ]
  },
  {
   "cell_type": "code",
   "execution_count": 37,
   "id": "61d8da6d",
   "metadata": {},
   "outputs": [],
   "source": [
    "users_pays_pday_after = users_pays_pday[users_pays_pday['event_date'] >= '2021-09-15']"
   ]
  },
  {
   "cell_type": "code",
   "execution_count": 39,
   "id": "60906f71",
   "metadata": {},
   "outputs": [
    {
     "name": "stdout",
     "output_type": "stream",
     "text": [
      "78.0 дней наблюдений эксперимента\n"
     ]
    }
   ],
   "source": [
    "DAYS_AFTER = (users_pays_pday_after['event_date'].max() - users_pays_pday_after['event_date'].min()) / np.timedelta64 ( 1 , 'D') + 1\n",
    "print(f\"{DAYS_AFTER} дней наблюдений эксперимента\")"
   ]
  },
  {
   "cell_type": "code",
   "execution_count": 40,
   "id": "6056cdec",
   "metadata": {},
   "outputs": [],
   "source": [
    "users_pays_pday_after_ndis = users_pays_pday_after[users_pays_pday_after['user_id'].isin(users_ndis)]\n",
    "users_pays_pday_after_30dis = users_pays_pday_after[users_pays_pday_after['user_id'].isin(users_30dis)]\n",
    "users_pays_pday_after_60dis = users_pays_pday_after[users_pays_pday_after['user_id'].isin(users_60dis)]"
   ]
  },
  {
   "cell_type": "markdown",
   "id": "279b58ac",
   "metadata": {},
   "source": [
    "Посмотрим на количество платящих пользователей во время эксперимента по группам"
   ]
  },
  {
   "cell_type": "code",
   "execution_count": 41,
   "id": "0d77dacb",
   "metadata": {},
   "outputs": [
    {
     "name": "stdout",
     "output_type": "stream",
     "text": [
      "Количество платящих в группе no_discount: 70278 (27.49%)\n",
      "Количество платящих в группе 30_discount: 69579 (27.43%)\n",
      "Количество платящих в группе 60_discount: 69572 (27.45%)\n"
     ]
    }
   ],
   "source": [
    "print(f\"Количество платящих в группе no_discount: {len(users_pays_pday_after_ndis['user_id'].unique())} ({round(len(users_pays_pday_after_ndis['user_id'].unique())*100/len(users_ndis), 2)}%)\")\n",
    "print(f\"Количество платящих в группе 30_discount: {len(users_pays_pday_after_30dis['user_id'].unique())} ({round(len(users_pays_pday_after_30dis['user_id'].unique())*100/len(users_30dis), 2)}%)\")\n",
    "print(f\"Количество платящих в группе 60_discount: {len(users_pays_pday_after_60dis['user_id'].unique())} ({round(len(users_pays_pday_after_60dis['user_id'].unique())*100/len(users_60dis), 2)}%)\")"
   ]
  },
  {
   "cell_type": "markdown",
   "id": "ece6fa95",
   "metadata": {},
   "source": [
    "Посмотрим на ARPU по группам, нормированную на время проведения эксперимента"
   ]
  },
  {
   "cell_type": "code",
   "execution_count": 50,
   "id": "a638c90c",
   "metadata": {},
   "outputs": [
    {
     "name": "stdout",
     "output_type": "stream",
     "text": [
      "Для группы no_discount ARPU, нормированная на период : 1.7132, [1.1331897716812311, 2.2931515238051436]\n",
      "Для группы 30_discount ARPU, нормированная на период : 1.5596, [1.2837129657201147, 1.8354236288800243]\n",
      "Для группы 60_discount ARPU, нормированная на период : 1.63, [1.2839876056300077, 1.9760075094949592]\n"
     ]
    }
   ],
   "source": [
    "# Делим на группы\n",
    "users_pays_after_ndis = users_pays_pday_after_ndis.groupby('user_id')['net_pday'].sum() / DAYS_AFTER\n",
    "users_pays_after_30dis = users_pays_pday_after_30dis.groupby('user_id')['net_pday'].sum() / DAYS_AFTER\n",
    "users_pays_after_60dis = users_pays_pday_after_60dis.groupby('user_id')['net_pday'].sum() / DAYS_AFTER\n",
    "\n",
    "# Фиксируем среднее\n",
    "mean_rev_after_ndis = users_pays_after_ndis.sum() / len(users_ndis)\n",
    "mean_rev_after_30dis = users_pays_after_30dis.sum() / len(users_30dis)\n",
    "mean_rev_after_60dis = users_pays_after_60dis.sum() / len(users_60dis)\n",
    "\n",
    "# Считаем ДИ для средних\n",
    "l_ndis, r_ndis = t.interval(alpha=0.95, df=len(users_ndis)-1, loc=mean_rev_after_ndis, scale=sem(users_pays_after_ndis)) \n",
    "l_30dis, r_30dis = t.interval(alpha=0.95, df=len(users_30dis)-1, loc=mean_rev_after_30dis, scale=sem(users_pays_after_30dis)) \n",
    "l_60dis, r_60dis = t.interval(alpha=0.95, df=len(users_60dis)-1, loc=mean_rev_after_60dis, scale=sem(users_pays_after_60dis)) \n",
    "\n",
    "print(f\"Для группы no_discount ARPU, нормированная на период : {round(mean_rev_after_ndis, 4)}, [{l_ndis}, {r_ndis}]\")\n",
    "print(f\"Для группы 30_discount ARPU, нормированная на период : {round(mean_rev_after_30dis, 4)}, [{l_30dis}, {r_30dis}]\")\n",
    "print(f\"Для группы 60_discount ARPU, нормированная на период : {round(mean_rev_after_60dis, 4)}, [{l_60dis}, {r_60dis}]\")"
   ]
  },
  {
   "cell_type": "code",
   "execution_count": 65,
   "id": "12284fb0",
   "metadata": {},
   "outputs": [
    {
     "name": "stdout",
     "output_type": "stream",
     "text": [
      "Для группы no_discount ARPPU, нормированная на период : 6.2314, [5.651428099719939, 6.811389851843852]\n",
      "Для группы 30_discount ARPPU, нормированная на период : 5.6857, [5.409836802512625, 5.961547465672534]\n",
      "Для группы 60_discount ARPPU, нормированная на период : 5.9379, [5.591841640463795, 6.283861544328746]\n"
     ]
    }
   ],
   "source": [
    "# Делим на группы\n",
    "users_pays_after_ndis = users_pays_pday_after_ndis.groupby('user_id')['net_pday'].sum() / DAYS_AFTER\n",
    "users_pays_after_30dis = users_pays_pday_after_30dis.groupby('user_id')['net_pday'].sum() / DAYS_AFTER\n",
    "users_pays_after_60dis = users_pays_pday_after_60dis.groupby('user_id')['net_pday'].sum() / DAYS_AFTER\n",
    "\n",
    "# Фиксируем среднее\n",
    "mean_rev_after_ndis = users_pays_after_ndis.mean()\n",
    "mean_rev_after_30dis = users_pays_after_30dis.mean()\n",
    "mean_rev_after_60dis = users_pays_after_60dis.mean()\n",
    "\n",
    "# Считаем ДИ для средних\n",
    "l_ndis, r_ndis = t.interval(alpha=0.95, df=len(users_ndis)-1, loc=mean_rev_after_ndis, scale=sem(users_pays_after_ndis)) \n",
    "l_30dis, r_30dis = t.interval(alpha=0.95, df=len(users_30dis)-1, loc=mean_rev_after_30dis, scale=sem(users_pays_after_30dis)) \n",
    "l_60dis, r_60dis = t.interval(alpha=0.95, df=len(users_60dis)-1, loc=mean_rev_after_60dis, scale=sem(users_pays_after_60dis)) \n",
    "\n",
    "print(f\"Для группы no_discount ARPPU, нормированная на период : {round(mean_rev_after_ndis, 4)}, [{l_ndis}, {r_ndis}]\")\n",
    "print(f\"Для группы 30_discount ARPPU, нормированная на период : {round(mean_rev_after_30dis, 4)}, [{l_30dis}, {r_30dis}]\")\n",
    "print(f\"Для группы 60_discount ARPPU, нормированная на период : {round(mean_rev_after_60dis, 4)}, [{l_60dis}, {r_60dis}]\")"
   ]
  },
  {
   "cell_type": "markdown",
   "id": "0ff2a981",
   "metadata": {},
   "source": [
    "Добавим к выборке тех, кто не платил ничего, они тоже вносят вклад в ARPU"
   ]
  },
  {
   "cell_type": "code",
   "execution_count": 52,
   "id": "50ad5496",
   "metadata": {},
   "outputs": [],
   "source": [
    "users_pays_before_ndis = np.concatenate([users_pays_before_ndis.to_numpy(), np.zeros(len(users_ndis)-len(users_pays_before_ndis))])\n",
    "users_pays_before_30dis = np.concatenate([users_pays_before_30dis.to_numpy(), np.zeros(len(users_30dis)-len(users_pays_before_30dis))])\n",
    "users_pays_before_60dis = np.concatenate([users_pays_before_60dis.to_numpy(), np.zeros(len(users_60dis)-len(users_pays_before_60dis))])\n",
    "\n",
    "assert len(users_pays_before_ndis) == len(users_ndis)\n",
    "assert len(users_pays_before_30dis) == len(users_30dis)\n",
    "assert len(users_pays_before_60dis) == len(users_60dis)"
   ]
  },
  {
   "cell_type": "code",
   "execution_count": 51,
   "id": "1e2ad8e7",
   "metadata": {},
   "outputs": [],
   "source": [
    "users_pays_after_ndis = np.concatenate([users_pays_after_ndis.to_numpy(), np.zeros(len(users_ndis)-len(users_pays_after_ndis))])\n",
    "users_pays_after_30dis = np.concatenate([users_pays_after_30dis.to_numpy(), np.zeros(len(users_30dis)-len(users_pays_after_30dis))])\n",
    "users_pays_after_60dis = np.concatenate([users_pays_after_60dis.to_numpy(), np.zeros(len(users_60dis)-len(users_pays_after_60dis))])\n",
    "\n",
    "assert len(users_pays_after_ndis) == len(users_ndis)\n",
    "assert len(users_pays_after_30dis) == len(users_30dis)\n",
    "assert len(users_pays_after_60dis) == len(users_60dis)"
   ]
  },
  {
   "cell_type": "markdown",
   "id": "88038021",
   "metadata": {},
   "source": [
    "Мы получили выборки сколько каждый пользователь заплатил, нормированное на период наблюдений до и после.\n",
    "\n",
    "Сравним с помощью ttest"
   ]
  },
  {
   "cell_type": "code",
   "execution_count": 56,
   "id": "b865d8bd",
   "metadata": {},
   "outputs": [
    {
     "data": {
      "text/plain": [
       "Ttest_indResult(statistic=-0.4861274862387228, pvalue=0.6268769884175127)"
      ]
     },
     "execution_count": 56,
     "metadata": {},
     "output_type": "execute_result"
    }
   ],
   "source": [
    "ttest_ind(users_pays_before_ndis, users_pays_after_ndis)"
   ]
  },
  {
   "cell_type": "code",
   "execution_count": 57,
   "id": "d990a2a4",
   "metadata": {},
   "outputs": [
    {
     "data": {
      "text/plain": [
       "Ttest_indResult(statistic=-0.5745877708826843, pvalue=0.5655703794474846)"
      ]
     },
     "execution_count": 57,
     "metadata": {},
     "output_type": "execute_result"
    }
   ],
   "source": [
    "ttest_ind(users_pays_before_30dis, users_pays_after_30dis)"
   ]
  },
  {
   "cell_type": "code",
   "execution_count": 60,
   "id": "8e22cf53",
   "metadata": {},
   "outputs": [
    {
     "data": {
      "text/plain": [
       "Ttest_indResult(statistic=-0.4831252140892439, pvalue=0.6290070407340258)"
      ]
     },
     "execution_count": 60,
     "metadata": {},
     "output_type": "execute_result"
    }
   ],
   "source": [
    "ttest_ind(users_pays_before_60dis, users_pays_after_60dis)"
   ]
  },
  {
   "cell_type": "code",
   "execution_count": 59,
   "id": "44b3f1bf",
   "metadata": {},
   "outputs": [
    {
     "data": {
      "text/plain": [
       "Ttest_indResult(statistic=1.6958173632170483, pvalue=0.08992108438986933)"
      ]
     },
     "execution_count": 59,
     "metadata": {},
     "output_type": "execute_result"
    }
   ],
   "source": [
    "ttest_ind(users_pays_after_ndis, users_pays_after_30dis)"
   ]
  },
  {
   "cell_type": "code",
   "execution_count": 61,
   "id": "84b61101",
   "metadata": {},
   "outputs": [
    {
     "data": {
      "text/plain": [
       "Ttest_indResult(statistic=0.8737240843174573, pvalue=0.38226894382745)"
      ]
     },
     "execution_count": 61,
     "metadata": {},
     "output_type": "execute_result"
    }
   ],
   "source": [
    "ttest_ind(users_pays_after_ndis, users_pays_after_60dis)"
   ]
  },
  {
   "cell_type": "code",
   "execution_count": 62,
   "id": "e6d0a3e1",
   "metadata": {},
   "outputs": [
    {
     "data": {
      "text/plain": [
       "Ttest_indResult(statistic=-1.1290457794567414, pvalue=0.2588790563345424)"
      ]
     },
     "execution_count": 62,
     "metadata": {},
     "output_type": "execute_result"
    }
   ],
   "source": [
    "ttest_ind(users_pays_after_30dis, users_pays_after_60dis)"
   ]
  },
  {
   "cell_type": "markdown",
   "id": "2b7e398d",
   "metadata": {},
   "source": [
    "Прокраса мы нигде не увидели, можно сказать, что введение скидок на продукты в качестве мотивации к верификации никак не влияют на ARPU.\n",
    "\n",
    "Посмотрим на ARPPU"
   ]
  },
  {
   "cell_type": "code",
   "execution_count": 66,
   "id": "fc67c51e",
   "metadata": {},
   "outputs": [],
   "source": [
    "# Откатим обратно переменные\n",
    "users_pays_before_ndis = users_pays_pday_before_ndis.groupby('user_id')['net_pday'].sum() / DAYS_BEFORE\n",
    "users_pays_before_30dis = users_pays_pday_before_30dis.groupby('user_id')['net_pday'].sum() / DAYS_BEFORE\n",
    "users_pays_before_60dis = users_pays_pday_before_60dis.groupby('user_id')['net_pday'].sum() / DAYS_BEFORE\n",
    "\n",
    "users_pays_after_ndis = users_pays_pday_after_ndis.groupby('user_id')['net_pday'].sum() / DAYS_AFTER\n",
    "users_pays_after_30dis = users_pays_pday_after_30dis.groupby('user_id')['net_pday'].sum() / DAYS_AFTER\n",
    "users_pays_after_60dis = users_pays_pday_after_60dis.groupby('user_id')['net_pday'].sum() / DAYS_AFTER"
   ]
  },
  {
   "cell_type": "code",
   "execution_count": 64,
   "id": "5a85e44f",
   "metadata": {},
   "outputs": [
    {
     "data": {
      "text/plain": [
       "Ttest_indResult(statistic=-3.467074235021229, pvalue=0.0005262978894754142)"
      ]
     },
     "execution_count": 64,
     "metadata": {},
     "output_type": "execute_result"
    }
   ],
   "source": [
    "ttest_ind(users_pays_before_ndis, users_pays_after_ndis)"
   ]
  },
  {
   "cell_type": "code",
   "execution_count": 67,
   "id": "ddcf055c",
   "metadata": {},
   "outputs": [
    {
     "data": {
      "text/plain": [
       "Ttest_indResult(statistic=-6.365011042098218, pvalue=1.958193253715176e-10)"
      ]
     },
     "execution_count": 67,
     "metadata": {},
     "output_type": "execute_result"
    }
   ],
   "source": [
    "ttest_ind(users_pays_before_30dis, users_pays_after_30dis)"
   ]
  },
  {
   "cell_type": "code",
   "execution_count": 68,
   "id": "a0b5c257",
   "metadata": {},
   "outputs": [
    {
     "data": {
      "text/plain": [
       "Ttest_indResult(statistic=-5.440269459119823, pvalue=5.328030805679462e-08)"
      ]
     },
     "execution_count": 68,
     "metadata": {},
     "output_type": "execute_result"
    }
   ],
   "source": [
    "ttest_ind(users_pays_before_60dis, users_pays_after_60dis)"
   ]
  },
  {
   "cell_type": "code",
   "execution_count": 69,
   "id": "b37af9bb",
   "metadata": {},
   "outputs": [
    {
     "data": {
      "text/plain": [
       "Ttest_indResult(statistic=1.6601334852548721, pvalue=0.0968898437731493)"
      ]
     },
     "execution_count": 69,
     "metadata": {},
     "output_type": "execute_result"
    }
   ],
   "source": [
    "ttest_ind(users_pays_after_ndis, users_pays_after_30dis)"
   ]
  },
  {
   "cell_type": "code",
   "execution_count": 70,
   "id": "a1fd2396",
   "metadata": {},
   "outputs": [
    {
     "data": {
      "text/plain": [
       "Ttest_indResult(statistic=0.8498901364331534, pvalue=0.39538762487513)"
      ]
     },
     "execution_count": 70,
     "metadata": {},
     "output_type": "execute_result"
    }
   ],
   "source": [
    "ttest_ind(users_pays_after_ndis, users_pays_after_60dis)"
   ]
  },
  {
   "cell_type": "code",
   "execution_count": 71,
   "id": "2495fb53",
   "metadata": {},
   "outputs": [
    {
     "data": {
      "text/plain": [
       "Ttest_indResult(statistic=-1.1168705078096763, pvalue=0.2640516247162296)"
      ]
     },
     "execution_count": 71,
     "metadata": {},
     "output_type": "execute_result"
    }
   ],
   "source": [
    "ttest_ind(users_pays_after_30dis, users_pays_after_60dis)"
   ]
  },
  {
   "cell_type": "markdown",
   "id": "76884e56",
   "metadata": {},
   "source": [
    "Что можно сказать из результатов: \n",
    "\n",
    "Есть прокрасы на увеличение ARPPU по сравнению с наблюдениями до эксперимента. Но если брать во внимание то, что количество платящих за время наблюдения эксперимента снизилось примерно на 5%, а ARPU не дала прокрасов, то есть она статистически осталась на том же уровне, а значит увеличение ARPPU связано только с тем, что уменьшился знаменатель - уменьшилось количество платящих. Уменьшение количества платящих тоже не есть хорошо, но я думаю, что некоторые пользватели просто еще не совершили еще свою покупку, так как период наблюдений до начала эксперимента почти на месяц больше, чем период эксперимента.\n",
    "\n",
    "В целом, можно сказать, что введение акции с целью мотивации пользователей к верификации не повлияло на прибыль. "
   ]
  },
  {
   "cell_type": "markdown",
   "id": "f834bfbd",
   "metadata": {},
   "source": [
    "### Сравнение ARPU после промо для каждого юзера"
   ]
  },
  {
   "cell_type": "markdown",
   "id": "30a9e71e",
   "metadata": {},
   "source": [
    "Хочется посмотреть на поведение пользователей после скидки. Вдруг пользователи совершат большинство покупок во время скидки - это скажется на том, что они будут меньше покупать, когда скидка уже не будет действовать, так как они уже купили все, что нужно."
   ]
  },
  {
   "cell_type": "markdown",
   "id": "b503e436",
   "metadata": {},
   "source": [
    "Отберем только верифицировнных пользователей и посмотрим на ARPU аналогично анализу выше."
   ]
  },
  {
   "cell_type": "code",
   "execution_count": 149,
   "id": "1870bc00",
   "metadata": {},
   "outputs": [],
   "source": [
    "ver_users_ndis = users_verifications_ndis.dropna(subset=['item_id', 'discount_day'])['user_id'].unique()\n",
    "ver_users_30dis = users_verifications_30dis.dropna(subset=['item_id', 'discount_day'])['user_id'].unique()\n",
    "ver_users_60dis = users_verifications_60dis.dropna(subset=['item_id', 'discount_day'])['user_id'].unique()\n",
    "\n",
    "ver_users_dates_ndis = users_verifications_ndis.dropna(subset=['item_id', 'discount_day'])[['user_id', 'discount_day']].drop_duplicates()\n",
    "ver_users_dates_30dis = users_verifications_30dis.dropna(subset=['item_id', 'discount_day'])[['user_id', 'discount_day']].drop_duplicates()\n",
    "ver_users_dates_60dis = users_verifications_60dis.dropna(subset=['item_id', 'discount_day'])[['user_id', 'discount_day']].drop_duplicates()"
   ]
  },
  {
   "cell_type": "code",
   "execution_count": 150,
   "id": "3f77c7d0",
   "metadata": {},
   "outputs": [],
   "source": [
    "ver_users_pays_pday_after_ndis = users_pays_pday_after_ndis[users_pays_pday_after_ndis['user_id'].isin(ver_users_ndis)]\n",
    "ver_users_pays_pday_after_30dis = users_pays_pday_after_30dis[users_pays_pday_after_30dis['user_id'].isin(ver_users_30dis)]\n",
    "ver_users_pays_pday_after_60dis = users_pays_pday_after_60dis[users_pays_pday_after_60dis['user_id'].isin(ver_users_60dis)]\n",
    "\n",
    "ver_users_pays_pday_before_ndis = users_pays_pday_before_ndis[users_pays_pday_before_ndis['user_id'].isin(ver_users_ndis)]\n",
    "ver_users_pays_pday_before_30dis = users_pays_pday_before_30dis[users_pays_pday_before_30dis['user_id'].isin(ver_users_30dis)]\n",
    "ver_users_pays_pday_before_60dis = users_pays_pday_before_60dis[users_pays_pday_before_60dis['user_id'].isin(ver_users_60dis)]"
   ]
  },
  {
   "cell_type": "code",
   "execution_count": 151,
   "id": "42e8cad4",
   "metadata": {},
   "outputs": [],
   "source": [
    "ver_users_pays_pday_after_ndis = ver_users_pays_pday_after_ndis.merge(ver_users_dates_ndis, on=\"user_id\")\n",
    "ver_users_pays_pday_after_30dis = ver_users_pays_pday_after_30dis.merge(ver_users_dates_30dis, on=\"user_id\")\n",
    "ver_users_pays_pday_after_60dis = ver_users_pays_pday_after_60dis.merge(ver_users_dates_60dis, on=\"user_id\")"
   ]
  },
  {
   "cell_type": "code",
   "execution_count": 152,
   "id": "19a2f01f",
   "metadata": {},
   "outputs": [],
   "source": [
    "ver_users_pays_pday_after_ndis['discount_day'] = pd.to_datetime(ver_users_pays_pday_after_ndis['discount_day'])\n",
    "ver_users_pays_pday_after_30dis['discount_day'] = pd.to_datetime(ver_users_pays_pday_after_30dis['discount_day'])\n",
    "ver_users_pays_pday_after_60dis['discount_day'] = pd.to_datetime(ver_users_pays_pday_after_60dis['discount_day'])"
   ]
  },
  {
   "cell_type": "code",
   "execution_count": 153,
   "id": "097a23a9",
   "metadata": {},
   "outputs": [
    {
     "data": {
      "text/html": [
       "<div>\n",
       "<style scoped>\n",
       "    .dataframe tbody tr th:only-of-type {\n",
       "        vertical-align: middle;\n",
       "    }\n",
       "\n",
       "    .dataframe tbody tr th {\n",
       "        vertical-align: top;\n",
       "    }\n",
       "\n",
       "    .dataframe thead th {\n",
       "        text-align: right;\n",
       "    }\n",
       "</style>\n",
       "<table border=\"1\" class=\"dataframe\">\n",
       "  <thead>\n",
       "    <tr style=\"text-align: right;\">\n",
       "      <th></th>\n",
       "      <th>user_id</th>\n",
       "      <th>event_date</th>\n",
       "      <th>net_pday</th>\n",
       "      <th>discount_day</th>\n",
       "    </tr>\n",
       "  </thead>\n",
       "  <tbody>\n",
       "    <tr>\n",
       "      <th>0</th>\n",
       "      <td>101</td>\n",
       "      <td>2021-09-21</td>\n",
       "      <td>32.384615</td>\n",
       "      <td>2021-09-18</td>\n",
       "    </tr>\n",
       "    <tr>\n",
       "      <th>1</th>\n",
       "      <td>101</td>\n",
       "      <td>2021-10-09</td>\n",
       "      <td>19.153846</td>\n",
       "      <td>2021-09-18</td>\n",
       "    </tr>\n",
       "    <tr>\n",
       "      <th>2</th>\n",
       "      <td>101</td>\n",
       "      <td>2021-10-21</td>\n",
       "      <td>32.384615</td>\n",
       "      <td>2021-09-18</td>\n",
       "    </tr>\n",
       "    <tr>\n",
       "      <th>3</th>\n",
       "      <td>101</td>\n",
       "      <td>2021-10-22</td>\n",
       "      <td>52.076923</td>\n",
       "      <td>2021-09-18</td>\n",
       "    </tr>\n",
       "    <tr>\n",
       "      <th>4</th>\n",
       "      <td>101</td>\n",
       "      <td>2021-11-08</td>\n",
       "      <td>18.846154</td>\n",
       "      <td>2021-09-18</td>\n",
       "    </tr>\n",
       "  </tbody>\n",
       "</table>\n",
       "</div>"
      ],
      "text/plain": [
       "   user_id event_date   net_pday discount_day\n",
       "0      101 2021-09-21  32.384615   2021-09-18\n",
       "1      101 2021-10-09  19.153846   2021-09-18\n",
       "2      101 2021-10-21  32.384615   2021-09-18\n",
       "3      101 2021-10-22  52.076923   2021-09-18\n",
       "4      101 2021-11-08  18.846154   2021-09-18"
      ]
     },
     "execution_count": 153,
     "metadata": {},
     "output_type": "execute_result"
    }
   ],
   "source": [
    "ver_users_pays_pday_after_ndis.head()"
   ]
  },
  {
   "cell_type": "markdown",
   "id": "8a51be9b",
   "metadata": {},
   "source": [
    "Зафиксировали день выдачи скидки, теперь зафиксируем количество дней после действия скидки - это необходимо для нормировки суммарной прибыли с пользователей на период наблюдения"
   ]
  },
  {
   "cell_type": "code",
   "execution_count": 154,
   "id": "4e1f73ec",
   "metadata": {},
   "outputs": [],
   "source": [
    "ver_users_pays_pday_after_ndis['diff'] = (ver_users_pays_pday_after_ndis['event_date'] - ver_users_pays_pday_after_ndis['discount_day'])/ np.timedelta64 ( 1 , 'D') + 1\n",
    "ver_users_pays_pday_after_30dis['diff'] = (ver_users_pays_pday_after_30dis['event_date'] - ver_users_pays_pday_after_30dis['discount_day'])/ np.timedelta64 ( 1 , 'D') + 1\n",
    "ver_users_pays_pday_after_60dis['diff'] = (ver_users_pays_pday_after_60dis['event_date'] - ver_users_pays_pday_after_60dis['discount_day'])/ np.timedelta64 ( 1 , 'D') + 1\n",
    "\n",
    "ver_users_pays_pday_after_ndis['days'] = (ver_users_pays_pday_after_ndis['event_date'].max() - ver_users_pays_pday_after_ndis['discount_day'])/ np.timedelta64 ( 1 , 'D') - 1\n",
    "ver_users_pays_pday_after_30dis['days'] = (ver_users_pays_pday_after_30dis['event_date'].max() - ver_users_pays_pday_after_30dis['discount_day'])/ np.timedelta64 ( 1 , 'D') - 1\n",
    "ver_users_pays_pday_after_60dis['days'] = (ver_users_pays_pday_after_60dis['event_date'].max() - ver_users_pays_pday_after_60dis['discount_day'])/ np.timedelta64 ( 1 , 'D') - 1\n",
    "\n",
    "ver_users_days_after_ndis = ver_users_pays_pday_after_ndis[['user_id', 'days']].drop_duplicates()\n",
    "ver_users_days_after_30dis = ver_users_pays_pday_after_30dis[['user_id', 'days']].drop_duplicates()\n",
    "ver_users_days_after_60dis = ver_users_pays_pday_after_60dis[['user_id', 'days']].drop_duplicates()"
   ]
  },
  {
   "cell_type": "code",
   "execution_count": 155,
   "id": "b790149e",
   "metadata": {},
   "outputs": [
    {
     "data": {
      "text/html": [
       "<div>\n",
       "<style scoped>\n",
       "    .dataframe tbody tr th:only-of-type {\n",
       "        vertical-align: middle;\n",
       "    }\n",
       "\n",
       "    .dataframe tbody tr th {\n",
       "        vertical-align: top;\n",
       "    }\n",
       "\n",
       "    .dataframe thead th {\n",
       "        text-align: right;\n",
       "    }\n",
       "</style>\n",
       "<table border=\"1\" class=\"dataframe\">\n",
       "  <thead>\n",
       "    <tr style=\"text-align: right;\">\n",
       "      <th></th>\n",
       "      <th>user_id</th>\n",
       "      <th>event_date</th>\n",
       "      <th>net_pday</th>\n",
       "      <th>discount_day</th>\n",
       "      <th>diff</th>\n",
       "      <th>days</th>\n",
       "    </tr>\n",
       "  </thead>\n",
       "  <tbody>\n",
       "    <tr>\n",
       "      <th>0</th>\n",
       "      <td>101</td>\n",
       "      <td>2021-09-21</td>\n",
       "      <td>32.384615</td>\n",
       "      <td>2021-09-18</td>\n",
       "      <td>4.0</td>\n",
       "      <td>75.0</td>\n",
       "    </tr>\n",
       "    <tr>\n",
       "      <th>1</th>\n",
       "      <td>101</td>\n",
       "      <td>2021-10-09</td>\n",
       "      <td>19.153846</td>\n",
       "      <td>2021-09-18</td>\n",
       "      <td>22.0</td>\n",
       "      <td>75.0</td>\n",
       "    </tr>\n",
       "    <tr>\n",
       "      <th>2</th>\n",
       "      <td>101</td>\n",
       "      <td>2021-10-21</td>\n",
       "      <td>32.384615</td>\n",
       "      <td>2021-09-18</td>\n",
       "      <td>34.0</td>\n",
       "      <td>75.0</td>\n",
       "    </tr>\n",
       "    <tr>\n",
       "      <th>3</th>\n",
       "      <td>101</td>\n",
       "      <td>2021-10-22</td>\n",
       "      <td>52.076923</td>\n",
       "      <td>2021-09-18</td>\n",
       "      <td>35.0</td>\n",
       "      <td>75.0</td>\n",
       "    </tr>\n",
       "    <tr>\n",
       "      <th>4</th>\n",
       "      <td>101</td>\n",
       "      <td>2021-11-08</td>\n",
       "      <td>18.846154</td>\n",
       "      <td>2021-09-18</td>\n",
       "      <td>52.0</td>\n",
       "      <td>75.0</td>\n",
       "    </tr>\n",
       "  </tbody>\n",
       "</table>\n",
       "</div>"
      ],
      "text/plain": [
       "   user_id event_date   net_pday discount_day  diff  days\n",
       "0      101 2021-09-21  32.384615   2021-09-18   4.0  75.0\n",
       "1      101 2021-10-09  19.153846   2021-09-18  22.0  75.0\n",
       "2      101 2021-10-21  32.384615   2021-09-18  34.0  75.0\n",
       "3      101 2021-10-22  52.076923   2021-09-18  35.0  75.0\n",
       "4      101 2021-11-08  18.846154   2021-09-18  52.0  75.0"
      ]
     },
     "execution_count": 155,
     "metadata": {},
     "output_type": "execute_result"
    }
   ],
   "source": [
    "ver_users_pays_pday_after_ndis.head()"
   ]
  },
  {
   "cell_type": "markdown",
   "id": "c8becb2b",
   "metadata": {},
   "source": [
    "Зафиксировали количество дней после действия скидки\n",
    "\n",
    "Посчитаем суммарную прибыль с пользователя"
   ]
  },
  {
   "cell_type": "code",
   "execution_count": 156,
   "id": "92ee21ba",
   "metadata": {},
   "outputs": [],
   "source": [
    "ver_users_pays_after_ndis = ver_users_pays_pday_after_ndis[ver_users_pays_pday_after_ndis['diff'] > 2].groupby('user_id')['net_pday'].sum().reset_index()\n",
    "ver_users_pays_after_30dis = ver_users_pays_pday_after_30dis[ver_users_pays_pday_after_30dis['diff'] > 2].groupby('user_id')['net_pday'].sum().reset_index()\n",
    "ver_users_pays_after_60dis = ver_users_pays_pday_after_60dis[ver_users_pays_pday_after_60dis['diff'] > 2].groupby('user_id')['net_pday'].sum().reset_index()\n",
    "\n",
    "ver_users_pays_after_ndis = ver_users_pays_after_ndis.merge(ver_users_days_after_ndis, on=\"user_id\")\n",
    "ver_users_pays_after_30dis = ver_users_pays_after_30dis.merge(ver_users_days_after_30dis, on=\"user_id\")\n",
    "ver_users_pays_after_60dis = ver_users_pays_after_60dis.merge(ver_users_days_after_60dis, on=\"user_id\")"
   ]
  },
  {
   "cell_type": "code",
   "execution_count": 157,
   "id": "1c9850a0",
   "metadata": {},
   "outputs": [
    {
     "data": {
      "text/html": [
       "<div>\n",
       "<style scoped>\n",
       "    .dataframe tbody tr th:only-of-type {\n",
       "        vertical-align: middle;\n",
       "    }\n",
       "\n",
       "    .dataframe tbody tr th {\n",
       "        vertical-align: top;\n",
       "    }\n",
       "\n",
       "    .dataframe thead th {\n",
       "        text-align: right;\n",
       "    }\n",
       "</style>\n",
       "<table border=\"1\" class=\"dataframe\">\n",
       "  <thead>\n",
       "    <tr style=\"text-align: right;\">\n",
       "      <th></th>\n",
       "      <th>user_id</th>\n",
       "      <th>net_pday</th>\n",
       "      <th>days</th>\n",
       "    </tr>\n",
       "  </thead>\n",
       "  <tbody>\n",
       "    <tr>\n",
       "      <th>0</th>\n",
       "      <td>101</td>\n",
       "      <td>266.307692</td>\n",
       "      <td>75.0</td>\n",
       "    </tr>\n",
       "    <tr>\n",
       "      <th>1</th>\n",
       "      <td>19709</td>\n",
       "      <td>1738.018462</td>\n",
       "      <td>72.0</td>\n",
       "    </tr>\n",
       "    <tr>\n",
       "      <th>2</th>\n",
       "      <td>22435</td>\n",
       "      <td>825.769231</td>\n",
       "      <td>74.0</td>\n",
       "    </tr>\n",
       "    <tr>\n",
       "      <th>3</th>\n",
       "      <td>252727</td>\n",
       "      <td>195.307692</td>\n",
       "      <td>57.0</td>\n",
       "    </tr>\n",
       "    <tr>\n",
       "      <th>4</th>\n",
       "      <td>253463</td>\n",
       "      <td>1958.944615</td>\n",
       "      <td>58.0</td>\n",
       "    </tr>\n",
       "  </tbody>\n",
       "</table>\n",
       "</div>"
      ],
      "text/plain": [
       "   user_id     net_pday  days\n",
       "0      101   266.307692  75.0\n",
       "1    19709  1738.018462  72.0\n",
       "2    22435   825.769231  74.0\n",
       "3   252727   195.307692  57.0\n",
       "4   253463  1958.944615  58.0"
      ]
     },
     "execution_count": 157,
     "metadata": {},
     "output_type": "execute_result"
    }
   ],
   "source": [
    "ver_users_pays_after_ndis.head()"
   ]
  },
  {
   "cell_type": "markdown",
   "id": "0400847e",
   "metadata": {},
   "source": [
    "Отнормируем на период наблюдений (он персональный для каждого пользователя)"
   ]
  },
  {
   "cell_type": "code",
   "execution_count": 158,
   "id": "b7b3a78a",
   "metadata": {},
   "outputs": [],
   "source": [
    "ver_users_pays_after_ndis = ver_users_pays_after_ndis['net_pday'] / ver_users_pays_after_ndis['days']\n",
    "ver_users_pays_after_30dis = ver_users_pays_after_30dis['net_pday'] / ver_users_pays_after_30dis['days']\n",
    "ver_users_pays_after_60dis = ver_users_pays_after_60dis['net_pday'] / ver_users_pays_after_60dis['days']"
   ]
  },
  {
   "cell_type": "code",
   "execution_count": 160,
   "id": "0bdfd16c",
   "metadata": {},
   "outputs": [
    {
     "data": {
      "text/plain": [
       "0        3.550769\n",
       "1       24.139145\n",
       "2       11.159044\n",
       "3        3.426451\n",
       "4       33.774907\n",
       "          ...    \n",
       "3750     1.838162\n",
       "3751     0.379198\n",
       "3752     0.319680\n",
       "3753     7.578135\n",
       "3754     0.505495\n",
       "Length: 3755, dtype: float64"
      ]
     },
     "execution_count": 160,
     "metadata": {},
     "output_type": "execute_result"
    }
   ],
   "source": [
    "ver_users_pays_after_ndis"
   ]
  },
  {
   "cell_type": "code",
   "execution_count": 161,
   "id": "fcffa97f",
   "metadata": {},
   "outputs": [],
   "source": [
    "ver_users_pays_before_ndis = users_pays_before_ndis.reset_index()[users_pays_before_ndis.reset_index()['user_id'].isin(ver_users_ndis)]['net_pday']\n",
    "ver_users_pays_before_30dis = users_pays_before_30dis.reset_index()[users_pays_before_30dis.reset_index()['user_id'].isin(ver_users_30dis)]['net_pday']\n",
    "ver_users_pays_before_60dis = users_pays_before_60dis.reset_index()[users_pays_before_60dis.reset_index()['user_id'].isin(ver_users_60dis)]['net_pday']"
   ]
  },
  {
   "cell_type": "code",
   "execution_count": 162,
   "id": "a35c9885",
   "metadata": {},
   "outputs": [
    {
     "data": {
      "text/plain": [
       "0         3.629898\n",
       "48        0.356313\n",
       "61        0.232946\n",
       "67       13.724964\n",
       "74       12.984035\n",
       "           ...    \n",
       "86000     0.304790\n",
       "86004     1.572569\n",
       "86014     0.957910\n",
       "86036     0.304790\n",
       "86037     0.220610\n",
       "Name: net_pday, Length: 3951, dtype: float64"
      ]
     },
     "execution_count": 162,
     "metadata": {},
     "output_type": "execute_result"
    }
   ],
   "source": [
    "ver_users_pays_before_ndis"
   ]
  },
  {
   "cell_type": "code",
   "execution_count": 163,
   "id": "a768185c",
   "metadata": {},
   "outputs": [
    {
     "data": {
      "text/plain": [
       "6863"
      ]
     },
     "execution_count": 163,
     "metadata": {},
     "output_type": "execute_result"
    }
   ],
   "source": [
    "len(ver_users_ndis)"
   ]
  },
  {
   "cell_type": "markdown",
   "id": "597e82df",
   "metadata": {},
   "source": [
    "Для ARPU важны и те, кто не платил, добавим недостающие нули"
   ]
  },
  {
   "cell_type": "code",
   "execution_count": 164,
   "id": "e6729e89",
   "metadata": {},
   "outputs": [],
   "source": [
    "ver_users_pays_before_ndis = np.concatenate([ver_users_pays_before_ndis.to_numpy(), np.zeros(len(ver_users_ndis)-len(ver_users_pays_before_ndis))])\n",
    "ver_users_pays_before_30dis = np.concatenate([ver_users_pays_before_30dis.to_numpy(), np.zeros(len(ver_users_30dis)-len(ver_users_pays_before_30dis))])\n",
    "ver_users_pays_before_60dis = np.concatenate([ver_users_pays_before_60dis.to_numpy(), np.zeros(len(ver_users_60dis)-len(ver_users_pays_before_60dis))])\n",
    "\n",
    "assert len(ver_users_pays_before_ndis) == len(ver_users_ndis)\n",
    "assert len(ver_users_pays_before_30dis) == len(ver_users_30dis)\n",
    "assert len(ver_users_pays_before_60dis) == len(ver_users_60dis)"
   ]
  },
  {
   "cell_type": "code",
   "execution_count": 165,
   "id": "01c473ba",
   "metadata": {},
   "outputs": [],
   "source": [
    "ver_users_pays_after_ndis = np.concatenate([ver_users_pays_after_ndis.to_numpy(), np.zeros(len(ver_users_ndis)-len(ver_users_pays_after_ndis))])\n",
    "ver_users_pays_after_30dis = np.concatenate([ver_users_pays_after_30dis.to_numpy(), np.zeros(len(ver_users_30dis)-len(ver_users_pays_after_30dis))])\n",
    "ver_users_pays_after_60dis = np.concatenate([ver_users_pays_after_60dis.to_numpy(), np.zeros(len(ver_users_60dis)-len(ver_users_pays_after_60dis))])\n",
    "\n",
    "assert len(ver_users_pays_after_ndis) == len(ver_users_ndis)\n",
    "assert len(ver_users_pays_after_30dis) == len(ver_users_30dis)\n",
    "assert len(ver_users_pays_after_60dis) == len(ver_users_60dis)"
   ]
  },
  {
   "cell_type": "markdown",
   "id": "c5e50ace",
   "metadata": {},
   "source": [
    "Готово, теперь для каждого верифицированного пользователя известно сколько он заплатил, нормированно на период наблюдений\n",
    "\n",
    "Посмотрим на доверительные интервалы средних ARPU для каждой группы до и после"
   ]
  },
  {
   "cell_type": "code",
   "execution_count": 177,
   "id": "41443c2d",
   "metadata": {},
   "outputs": [
    {
     "name": "stdout",
     "output_type": "stream",
     "text": [
      "------------------------------------------------------------------------------------------------------------------------\n",
      "******************************************************* before *******************************************************\n",
      "Для группы верифицированных в no_discount ARPU, нормированная на период : 5.1323, [4.107713374280816, 6.156810985641665]\n",
      "Для группы верифицированных в 30_discount ARPU, нормированная на период : 5.3258, [4.65768730967909, 5.993995793343598]\n",
      "Для группы верифицированных в 60_discount ARPU, нормированная на период : 6.1284, [5.137800963322466, 7.118925204635772]\n",
      "------------------------------------------------------------------------------------------------------------------------\n",
      "******************************************************* after *******************************************************\n",
      "Для группы верифицированных в no_discount ARPU, нормированная на период : 6.7735, [5.2813086759880035, 8.265782703845765]\n",
      "Для группы верифицированных в 30_discount ARPU, нормированная на период : 6.0913, [5.395503950670065, 6.787014879035002]\n",
      "Для группы верифицированных в 60_discount ARPU, нормированная на период : 6.8246, [5.84345856102251, 7.805760718712117]\n"
     ]
    }
   ],
   "source": [
    "# Фиксируем среднее\n",
    "mean_rev_before_ndis = ver_users_pays_before_ndis.mean()\n",
    "mean_rev_before_30dis = ver_users_pays_before_30dis.mean()\n",
    "mean_rev_before_60dis = ver_users_pays_before_60dis.mean()\n",
    "\n",
    "# Считаем ДИ для средних\n",
    "l_ndis, r_ndis = t.interval(alpha=0.95, df=len(ver_users_ndis)-1, loc=mean_rev_before_ndis, scale=sem(ver_users_pays_before_ndis)) \n",
    "l_30dis, r_30dis = t.interval(alpha=0.95, df=len(ver_users_30dis)-1, loc=mean_rev_before_30dis, scale=sem(ver_users_pays_before_30dis)) \n",
    "l_60dis, r_60dis = t.interval(alpha=0.95, df=len(ver_users_60dis)-1, loc=mean_rev_before_60dis, scale=sem(ver_users_pays_before_60dis)) \n",
    "\n",
    "print('-'*120)\n",
    "print(\"*\"*55, \"before\", '*'*55)\n",
    "print(f\"Для группы верифицированных в no_discount ARPU, нормированная на период : {round(mean_rev_before_ndis, 4)}, [{l_ndis}, {r_ndis}]\")\n",
    "print(f\"Для группы верифицированных в 30_discount ARPU, нормированная на период : {round(mean_rev_before_30dis, 4)}, [{l_30dis}, {r_30dis}]\")\n",
    "print(f\"Для группы верифицированных в 60_discount ARPU, нормированная на период : {round(mean_rev_before_60dis, 4)}, [{l_60dis}, {r_60dis}]\")\n",
    "print('-'*120)\n",
    "\n",
    "# Фиксируем среднее\n",
    "mean_rev_after_ndis = ver_users_pays_after_ndis.mean()\n",
    "mean_rev_after_30dis = ver_users_pays_after_30dis.mean()\n",
    "mean_rev_after_60dis = ver_users_pays_after_60dis.mean()\n",
    "\n",
    "# Считаем ДИ для средних\n",
    "l_ndis, r_ndis = t.interval(alpha=0.95, df=len(ver_users_ndis)-1, loc=mean_rev_after_ndis, scale=sem(ver_users_pays_after_ndis)) \n",
    "l_30dis, r_30dis = t.interval(alpha=0.95, df=len(ver_users_30dis)-1, loc=mean_rev_after_30dis, scale=sem(ver_users_pays_after_30dis)) \n",
    "l_60dis, r_60dis = t.interval(alpha=0.95, df=len(ver_users_60dis)-1, loc=mean_rev_after_60dis, scale=sem(ver_users_pays_after_60dis)) \n",
    "\n",
    "print(\"*\"*55, \"after\", '*'*55)\n",
    "print(f\"Для группы верифицированных в no_discount ARPU, нормированная на период : {round(mean_rev_after_ndis, 4)}, [{l_ndis}, {r_ndis}]\")\n",
    "print(f\"Для группы верифицированных в 30_discount ARPU, нормированная на период : {round(mean_rev_after_30dis, 4)}, [{l_30dis}, {r_30dis}]\")\n",
    "print(f\"Для группы верифицированных в 60_discount ARPU, нормированная на период : {round(mean_rev_after_60dis, 4)}, [{l_60dis}, {r_60dis}]\")"
   ]
  },
  {
   "cell_type": "markdown",
   "id": "185cb976",
   "metadata": {},
   "source": [
    "Посмотрим на ttest"
   ]
  },
  {
   "cell_type": "code",
   "execution_count": 184,
   "id": "ad74754f",
   "metadata": {},
   "outputs": [
    {
     "name": "stdout",
     "output_type": "stream",
     "text": [
      "----------------------------------------------------------------------------------------------------\n",
      "no_discount before & 30_discount before: \n",
      "\tTtest_indResult(statistic=-0.3152055265180886, pvalue=0.7526101943451109)\n",
      "----------------------------------------------------------------------------------------------------\n",
      "30_discount before & 60_discount before: \n",
      "\tTtest_indResult(statistic=-1.28813600800346, pvalue=0.19771749515407036)\n",
      "----------------------------------------------------------------------------------------------------\n",
      "60_discount before & no_discount before: \n",
      "\tTtest_indResult(statistic=-1.362112623651385, pvalue=0.17318256807403906)\n",
      "----------------------------------------------------------------------------------------------------\n",
      "no_discount before & no_discount after: \n",
      "\tTtest_indResult(statistic=-1.7774815685493621, pvalue=0.07551118072914079)\n",
      "----------------------------------------------------------------------------------------------------\n",
      "30_discount before & 30_discount after: \n",
      "\tTtest_indResult(statistic=-1.5554547985437455, pvalue=0.11985893401021439)\n",
      "----------------------------------------------------------------------------------------------------\n",
      "60_discount before & 60_discount after: \n",
      "\tTtest_indResult(statistic=-0.9789054033239821, pvalue=0.3276409723934931)\n",
      "----------------------------------------------------------------------------------------------------\n",
      "no_discount after & 30_discount after: \n",
      "\tTtest_indResult(statistic=0.8343566165272828, pvalue=0.40409394944147714)\n",
      "----------------------------------------------------------------------------------------------------\n",
      "no_discount after & 60_discount after: \n",
      "\tTtest_indResult(statistic=-0.057748084566386755, pvalue=0.9539500521695715)\n",
      "----------------------------------------------------------------------------------------------------\n",
      "30_discount after & 60_discount after: \n",
      "\tTtest_indResult(statistic=-1.1718926608260345, pvalue=0.24125783225001873)\n"
     ]
    }
   ],
   "source": [
    "print('-'*100)\n",
    "print(f\"no_discount before & 30_discount before: \\n\\t{ttest_ind(ver_users_pays_before_ndis, ver_users_pays_before_30dis)}\")\n",
    "print('-'*100)\n",
    "print(f\"30_discount before & 60_discount before: \\n\\t{ttest_ind(ver_users_pays_before_30dis, ver_users_pays_before_60dis)}\")\n",
    "print('-'*100)\n",
    "print(f\"60_discount before & no_discount before: \\n\\t{ttest_ind(ver_users_pays_before_ndis, ver_users_pays_before_60dis)}\")\n",
    "print('-'*100)\n",
    "print(f\"no_discount before & no_discount after: \\n\\t{ttest_ind(ver_users_pays_before_ndis, ver_users_pays_after_ndis)}\")\n",
    "print('-'*100)\n",
    "print(f\"30_discount before & 30_discount after: \\n\\t{ttest_ind(ver_users_pays_before_30dis, ver_users_pays_after_30dis)}\")\n",
    "print('-'*100)\n",
    "print(f\"60_discount before & 60_discount after: \\n\\t{ttest_ind(ver_users_pays_before_60dis, ver_users_pays_after_60dis)}\")\n",
    "print('-'*100)\n",
    "print(f\"no_discount after & 30_discount after: \\n\\t{ttest_ind(ver_users_pays_after_ndis, ver_users_pays_after_30dis)}\")\n",
    "print('-'*100)\n",
    "print(f\"no_discount after & 60_discount after: \\n\\t{ttest_ind(ver_users_pays_after_ndis, ver_users_pays_after_60dis)}\")\n",
    "print('-'*100)\n",
    "print(f\"30_discount after & 60_discount after: \\n\\t{ttest_ind(ver_users_pays_after_30dis, ver_users_pays_after_60dis)}\")"
   ]
  },
  {
   "cell_type": "code",
   "execution_count": null,
   "id": "5ba0d0ee",
   "metadata": {},
   "outputs": [],
   "source": []
  }
 ],
 "metadata": {
  "kernelspec": {
   "display_name": "Python 3 (ipykernel)",
   "language": "python",
   "name": "python3"
  },
  "language_info": {
   "codemirror_mode": {
    "name": "ipython",
    "version": 3
   },
   "file_extension": ".py",
   "mimetype": "text/x-python",
   "name": "python",
   "nbconvert_exporter": "python",
   "pygments_lexer": "ipython3",
   "version": "3.10.6"
  }
 },
 "nbformat": 4,
 "nbformat_minor": 5
}
